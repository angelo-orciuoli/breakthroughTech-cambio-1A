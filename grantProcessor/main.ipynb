{
 "cells": [
  {
   "cell_type": "markdown",
   "id": "54bf3896",
   "metadata": {},
   "source": [
    "import llamaIndex and openAI model and libraries"
   ]
  },
  {
   "cell_type": "code",
   "execution_count": null,
   "id": "b1c34440",
   "metadata": {},
   "outputs": [
    {
     "name": "stderr",
     "output_type": "stream",
     "text": [
      "/Users/lanika/Downloads/grantProcessor/breakthroughTech-cambio-1A/venv/lib/python3.9/site-packages/urllib3/__init__.py:35: NotOpenSSLWarning: urllib3 v2 only supports OpenSSL 1.1.1+, currently the 'ssl' module is compiled with 'LibreSSL 2.8.3'. See: https://github.com/urllib3/urllib3/issues/3020\n",
      "  warnings.warn(\n"
     ]
    }
   ],
   "source": [
    "from llama_index.core import VectorStoreIndex, SimpleDirectoryReader, Settings \n",
    "from llama_index.llms.openai import OpenAI \n",
    "from llama_index.core.agent import FunctionAgent\n",
    "from llama_index.embeddings.openai import OpenAIEmbedding\n",
    "from duckduckgo_search import DDGS \n",
    "from llama_index.core.tools import QueryEngineTool\n",
    "import os\n",
    "os.environ[\"OPENAI_API_KEY\"] = \"YOUR-API-KEY\"\n",
    "\n",
    "\n",
    "#configure \n",
    "Settings.llm = OpenAI(model=\"gpt-4o-mini\") \n",
    "Settings.embed_model = OpenAIEmbedding()\n"
   ]
  },
  {
   "cell_type": "markdown",
   "id": "714df978",
   "metadata": {},
   "source": [
    "web search"
   ]
  },
  {
   "cell_type": "code",
   "execution_count": 2,
   "id": "c354c89f",
   "metadata": {},
   "outputs": [],
   "source": [
    "from llama_index.core.tools import FunctionTool\n",
    "\n",
    "search_tool = FunctionTool.from_defaults(\n",
    "    fn=DDGS,\n",
    "    name=\"duckduckgo_search\",\n",
    "    description=\"Performs a DuckDuckGo web search to find relevant information based on a query.\",\n",
    ")"
   ]
  },
  {
   "cell_type": "markdown",
   "id": "d516214a",
   "metadata": {},
   "source": [
    "document search"
   ]
  },
  {
   "cell_type": "code",
   "execution_count": 3,
   "id": "1ddb8bc6",
   "metadata": {},
   "outputs": [
    {
     "name": "stderr",
     "output_type": "stream",
     "text": [
      "2025-09-19 12:04:08,470 - INFO - HTTP Request: POST https://api.openai.com/v1/embeddings \"HTTP/1.1 200 OK\"\n"
     ]
    }
   ],
   "source": [
    "documents = SimpleDirectoryReader(input_dir=\"./applications\").load_data()\n",
    "index = VectorStoreIndex.from_documents(documents)\n",
    "index.storage_context.persist(persist_dir=\"./storage\")\n",
    "\n",
    "query_engine = index.as_query_engine()\n",
    "file_research_tool = QueryEngineTool.from_defaults(\n",
    "    query_engine=query_engine,\n",
    "    description=\"A tool for answering questions about the provided documents.\"\n",
    ")\n"
   ]
  },
  {
   "cell_type": "markdown",
   "id": "792e1a07",
   "metadata": {},
   "source": [
    "define agent"
   ]
  },
  {
   "cell_type": "code",
   "execution_count": 4,
   "id": "7c95fdf4",
   "metadata": {},
   "outputs": [],
   "source": [
    "agent = FunctionAgent(\n",
    "    tools=[search_tool, file_research_tool],\n",
    "    llm=Settings.llm,\n",
    "    verbose=True,\n",
    "    system_prompt=\"You are a helpful research assistant to answer questions about Cambio Labs. Use the DuckDuckGo search tool and file_research_tool to find information and answer the questions in regards to cambio labs thoroughly.\"\n",
    ")\n",
    "\n"
   ]
  },
  {
   "cell_type": "markdown",
   "id": "1357ddee",
   "metadata": {},
   "source": [
    "running agent"
   ]
  },
  {
   "cell_type": "code",
   "execution_count": 5,
   "id": "9dd9c669",
   "metadata": {},
   "outputs": [
    {
     "name": "stderr",
     "output_type": "stream",
     "text": [
      "2025-09-19 12:04:08,925 - INFO - HTTP Request: POST https://api.openai.com/v1/embeddings \"HTTP/1.1 200 OK\"\n",
      "2025-09-19 12:04:10,606 - INFO - HTTP Request: POST https://api.openai.com/v1/chat/completions \"HTTP/1.1 200 OK\"\n"
     ]
    },
    {
     "name": "stdout",
     "output_type": "stream",
     "text": [
      "Empowering, Innovative, Inclusive.\n"
     ]
    }
   ],
   "source": [
    "import asyncio\n",
    "\n",
    "research_query = \"How would you describe your organization in three words?\"\n",
    "response = await query_engine.aquery(research_query)\n",
    "print(response)"
   ]
  },
  {
   "cell_type": "code",
   "execution_count": null,
   "id": "4a563690",
   "metadata": {},
   "outputs": [],
   "source": []
  }
 ],
 "metadata": {
  "kernelspec": {
   "display_name": "venv",
   "language": "python",
   "name": "python3"
  },
  "language_info": {
   "codemirror_mode": {
    "name": "ipython",
    "version": 3
   },
   "file_extension": ".py",
   "mimetype": "text/x-python",
   "name": "python",
   "nbconvert_exporter": "python",
   "pygments_lexer": "ipython3",
   "version": "3.9.6"
  }
 },
 "nbformat": 4,
 "nbformat_minor": 5
}
