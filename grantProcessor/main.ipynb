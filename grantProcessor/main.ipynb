{
 "cells": [
  {
   "cell_type": "markdown",
   "id": "54bf3896",
   "metadata": {},
   "source": [
    "import llamaIndex and openAI model and libraries"
   ]
  },
  {
   "cell_type": "code",
   "execution_count": null,
   "id": "b1c34440",
   "metadata": {},
   "outputs": [],
   "source": [
    "from llama_index.core import VectorStoreIndex, SimpleDirectoryReader, Settings \n",
    "from llama_index.llms.openai import OpenAI \n",
    "from llama_index.core.agent import FunctionAgent\n",
    "from llama_index.embeddings.openai import OpenAIEmbedding\n",
    "from duckduckgo_search import DDGS \n",
    "from llama_index.core.tools import QueryEngineTool\n",
    "import os\n",
    "os.environ[\"OPENAI_API_KEY\"] = \"YOUR-API-KEY\"\n",
    "\n",
    "\n",
    "#configure \n",
    "Settings.llm = OpenAI(model=\"gpt-4o-mini\") \n",
    "Settings.embed_model = OpenAIEmbedding()\n"
   ]
  },
  {
   "cell_type": "markdown",
   "id": "714df978",
   "metadata": {},
   "source": [
    "web search"
   ]
  },
  {
   "cell_type": "code",
   "execution_count": 33,
   "id": "c354c89f",
   "metadata": {},
   "outputs": [],
   "source": [
    "from llama_index.core.tools import FunctionTool\n",
    "\n",
    "search_tool = FunctionTool.from_defaults(\n",
    "    fn=DDGS,\n",
    "    name=\"duckduckgo_search\",\n",
    "    description=\"Performs a DuckDuckGo web search to find relevant information based on a query.\",\n",
    ")"
   ]
  },
  {
   "cell_type": "markdown",
   "id": "d516214a",
   "metadata": {},
   "source": [
    "document search"
   ]
  },
  {
   "cell_type": "code",
   "execution_count": 34,
   "id": "1ddb8bc6",
   "metadata": {},
   "outputs": [
    {
     "name": "stderr",
     "output_type": "stream",
     "text": [
      "2025-09-11 16:36:06,326 - INFO - HTTP Request: POST https://api.openai.com/v1/embeddings \"HTTP/1.1 200 OK\"\n"
     ]
    }
   ],
   "source": [
    "documents = SimpleDirectoryReader(input_dir=\"./applications\").load_data()\n",
    "index = VectorStoreIndex.from_documents(documents)\n",
    "index.storage_context.persist(persist_dir=\"./storage\")\n",
    "\n",
    "query_engine = index.as_query_engine()\n",
    "file_research_tool = QueryEngineTool.from_defaults(\n",
    "    query_engine=query_engine,\n",
    "    description=\"A tool for answering questions about the provided documents.\"\n",
    ")\n"
   ]
  },
  {
   "cell_type": "markdown",
   "id": "792e1a07",
   "metadata": {},
   "source": [
    "define agent"
   ]
  },
  {
   "cell_type": "code",
   "execution_count": 35,
   "id": "7c95fdf4",
   "metadata": {},
   "outputs": [
    {
     "name": "stderr",
     "output_type": "stream",
     "text": [
      "/opt/anaconda3/lib/python3.12/inspect.py:586: PydanticDeprecatedSince20: The `__fields__` attribute is deprecated, use `model_fields` instead. Deprecated in Pydantic V2.0 to be removed in V3.0. See Pydantic V2 Migration Guide at https://errors.pydantic.dev/2.11/migration/\n",
      "  value = getter(object, key)\n",
      "/opt/anaconda3/lib/python3.12/inspect.py:586: PydanticDeprecatedSince20: The `__fields_set__` attribute is deprecated, use `model_fields_set` instead. Deprecated in Pydantic V2.0 to be removed in V3.0. See Pydantic V2 Migration Guide at https://errors.pydantic.dev/2.11/migration/\n",
      "  value = getter(object, key)\n",
      "/opt/anaconda3/lib/python3.12/inspect.py:586: PydanticDeprecatedSince211: Accessing the 'model_computed_fields' attribute on the instance is deprecated. Instead, you should access this attribute from the model class. Deprecated in Pydantic V2.11 to be removed in V3.0.\n",
      "  value = getter(object, key)\n",
      "/opt/anaconda3/lib/python3.12/inspect.py:586: PydanticDeprecatedSince211: Accessing the 'model_fields' attribute on the instance is deprecated. Instead, you should access this attribute from the model class. Deprecated in Pydantic V2.11 to be removed in V3.0.\n",
      "  value = getter(object, key)\n",
      "/opt/anaconda3/lib/python3.12/inspect.py:586: PydanticDeprecatedSince20: The `__fields__` attribute is deprecated, use `model_fields` instead. Deprecated in Pydantic V2.0 to be removed in V3.0. See Pydantic V2 Migration Guide at https://errors.pydantic.dev/2.11/migration/\n",
      "  value = getter(object, key)\n",
      "/opt/anaconda3/lib/python3.12/inspect.py:586: PydanticDeprecatedSince20: The `__fields_set__` attribute is deprecated, use `model_fields_set` instead. Deprecated in Pydantic V2.0 to be removed in V3.0. See Pydantic V2 Migration Guide at https://errors.pydantic.dev/2.11/migration/\n",
      "  value = getter(object, key)\n",
      "/opt/anaconda3/lib/python3.12/inspect.py:586: PydanticDeprecatedSince211: Accessing the 'model_computed_fields' attribute on the instance is deprecated. Instead, you should access this attribute from the model class. Deprecated in Pydantic V2.11 to be removed in V3.0.\n",
      "  value = getter(object, key)\n",
      "/opt/anaconda3/lib/python3.12/inspect.py:586: PydanticDeprecatedSince211: Accessing the 'model_fields' attribute on the instance is deprecated. Instead, you should access this attribute from the model class. Deprecated in Pydantic V2.11 to be removed in V3.0.\n",
      "  value = getter(object, key)\n",
      "/opt/anaconda3/lib/python3.12/site-packages/workflows/workflow.py:117: DeprecationWarning: ServiceManager is deprecated and will be removed in a future version.\n",
      "  self._service_manager = service_manager or ServiceManager()\n"
     ]
    }
   ],
   "source": [
    "agent = FunctionAgent(\n",
    "    tools=[search_tool, file_research_tool],\n",
    "    llm=Settings.llm,\n",
    "    verbose=True,\n",
    "    system_prompt=\"You are a helpful research assistant to answer questions about Cambio Labs. Use the DuckDuckGo search tool and file_research_tool to find information and answer the questions in regards to cambio labs thoroughly.\"\n",
    ")\n",
    "\n"
   ]
  },
  {
   "cell_type": "markdown",
   "id": "1357ddee",
   "metadata": {},
   "source": [
    "running agent"
   ]
  },
  {
   "cell_type": "code",
   "execution_count": 39,
   "id": "9dd9c669",
   "metadata": {},
   "outputs": [
    {
     "name": "stderr",
     "output_type": "stream",
     "text": [
      "2025-09-11 16:38:51,602 - INFO - HTTP Request: POST https://api.openai.com/v1/embeddings \"HTTP/1.1 200 OK\"\n",
      "2025-09-11 16:38:52,970 - INFO - HTTP Request: POST https://api.openai.com/v1/chat/completions \"HTTP/1.1 200 OK\"\n"
     ]
    },
    {
     "name": "stdout",
     "output_type": "stream",
     "text": [
      "Empowering, Innovative, Inclusive.\n"
     ]
    }
   ],
   "source": [
    "import asyncio\n",
    "\n",
    "research_query = \"How would you describe your organization in three words?\"\n",
    "response = await query_engine.aquery(research_query)\n",
    "print(response)"
   ]
  },
  {
   "cell_type": "code",
   "execution_count": null,
   "id": "4a563690",
   "metadata": {},
   "outputs": [],
   "source": []
  }
 ],
 "metadata": {
  "kernelspec": {
   "display_name": "base",
   "language": "python",
   "name": "python3"
  },
  "language_info": {
   "codemirror_mode": {
    "name": "ipython",
    "version": 3
   },
   "file_extension": ".py",
   "mimetype": "text/x-python",
   "name": "python",
   "nbconvert_exporter": "python",
   "pygments_lexer": "ipython3",
   "version": "3.12.4"
  }
 },
 "nbformat": 4,
 "nbformat_minor": 5
}
